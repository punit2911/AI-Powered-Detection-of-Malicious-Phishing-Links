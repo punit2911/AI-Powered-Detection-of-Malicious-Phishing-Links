{
 "cells": [
  {
   "cell_type": "code",
   "execution_count": 1,
   "id": "c16b68ce",
   "metadata": {},
   "outputs": [],
   "source": [
    "import pandas as pd \n",
    "import numpy as np\n",
    "\n",
    "import matplotlib.pyplot as plt\n",
    "import seaborn as sns\n",
    "\n",
    "from sklearn.model_selection import train_test_split\n",
    "from sklearn.metrics import accuracy_score\n",
    "\n",
    "from sklearn.linear_model import LogisticRegression\n",
    "from sklearn.tree import DecisionTreeClassifier\n",
    "from sklearn.svm import SVC\n",
    "\n",
    "\n",
    "from sklearn.neighbors import KNeighborsClassifier\n",
    "from sklearn.naive_bayes import GaussianNB\n",
    "\n",
    "from sklearn.ensemble import RandomForestClassifier, GradientBoostingClassifier, AdaBoostClassifier, VotingClassifier, StackingClassifier\n",
    "import xgboost as xgb"
   ]
  },
  {
   "cell_type": "code",
   "execution_count": 2,
   "id": "9a17f66f",
   "metadata": {},
   "outputs": [],
   "source": [
    "\n",
    "\n",
    "dataset = pd.read_csv('urldata.csv') # have all the features\n",
    "\n",
    "# we will be using scaled data for these three datasets\n",
    "# here we have included only the selected features\n",
    "\n",
    "dataset_1 = pd.read_csv('dataset_1.csv')\n",
    "dataset_2 = pd.read_csv('dataset_2.csv')\n",
    "dataset_3 = pd.read_csv('dataset_3.csv')\n"
   ]
  },
  {
   "cell_type": "code",
   "execution_count": 3,
   "id": "282d56de",
   "metadata": {},
   "outputs": [
    {
     "data": {
      "text/html": [
       "<div>\n",
       "<style scoped>\n",
       "    .dataframe tbody tr th:only-of-type {\n",
       "        vertical-align: middle;\n",
       "    }\n",
       "\n",
       "    .dataframe tbody tr th {\n",
       "        vertical-align: top;\n",
       "    }\n",
       "\n",
       "    .dataframe thead th {\n",
       "        text-align: right;\n",
       "    }\n",
       "</style>\n",
       "<table border=\"1\" class=\"dataframe\">\n",
       "  <thead>\n",
       "    <tr style=\"text-align: right;\">\n",
       "      <th></th>\n",
       "      <th>QueryLength</th>\n",
       "      <th>UrlLength</th>\n",
       "      <th>NumNumericChars</th>\n",
       "      <th>HostnameLength</th>\n",
       "      <th>NumDots</th>\n",
       "      <th>NumDashInHostname</th>\n",
       "      <th>NumDash</th>\n",
       "      <th>NumAmpersand</th>\n",
       "      <th>SubdomainLevel</th>\n",
       "      <th>RandomString</th>\n",
       "      <th>NumQueryComponents</th>\n",
       "      <th>NumPercent</th>\n",
       "      <th>PathLevel</th>\n",
       "      <th>IpAddress</th>\n",
       "      <th>NumUnderscore</th>\n",
       "      <th>Label</th>\n",
       "    </tr>\n",
       "  </thead>\n",
       "  <tbody>\n",
       "    <tr>\n",
       "      <th>0</th>\n",
       "      <td>0</td>\n",
       "      <td>30</td>\n",
       "      <td>0</td>\n",
       "      <td>14</td>\n",
       "      <td>3</td>\n",
       "      <td>0</td>\n",
       "      <td>0</td>\n",
       "      <td>0</td>\n",
       "      <td>4</td>\n",
       "      <td>0</td>\n",
       "      <td>0</td>\n",
       "      <td>0</td>\n",
       "      <td>3</td>\n",
       "      <td>0</td>\n",
       "      <td>0</td>\n",
       "      <td>0</td>\n",
       "    </tr>\n",
       "    <tr>\n",
       "      <th>1</th>\n",
       "      <td>39</td>\n",
       "      <td>96</td>\n",
       "      <td>15</td>\n",
       "      <td>10</td>\n",
       "      <td>2</td>\n",
       "      <td>0</td>\n",
       "      <td>4</td>\n",
       "      <td>0</td>\n",
       "      <td>3</td>\n",
       "      <td>1</td>\n",
       "      <td>1</td>\n",
       "      <td>0</td>\n",
       "      <td>5</td>\n",
       "      <td>0</td>\n",
       "      <td>0</td>\n",
       "      <td>0</td>\n",
       "    </tr>\n",
       "    <tr>\n",
       "      <th>2</th>\n",
       "      <td>0</td>\n",
       "      <td>36</td>\n",
       "      <td>0</td>\n",
       "      <td>21</td>\n",
       "      <td>2</td>\n",
       "      <td>0</td>\n",
       "      <td>0</td>\n",
       "      <td>0</td>\n",
       "      <td>3</td>\n",
       "      <td>0</td>\n",
       "      <td>0</td>\n",
       "      <td>0</td>\n",
       "      <td>2</td>\n",
       "      <td>0</td>\n",
       "      <td>0</td>\n",
       "      <td>0</td>\n",
       "    </tr>\n",
       "    <tr>\n",
       "      <th>3</th>\n",
       "      <td>35</td>\n",
       "      <td>79</td>\n",
       "      <td>7</td>\n",
       "      <td>28</td>\n",
       "      <td>3</td>\n",
       "      <td>1</td>\n",
       "      <td>6</td>\n",
       "      <td>0</td>\n",
       "      <td>4</td>\n",
       "      <td>0</td>\n",
       "      <td>0</td>\n",
       "      <td>0</td>\n",
       "      <td>2</td>\n",
       "      <td>0</td>\n",
       "      <td>0</td>\n",
       "      <td>0</td>\n",
       "    </tr>\n",
       "    <tr>\n",
       "      <th>4</th>\n",
       "      <td>0</td>\n",
       "      <td>35</td>\n",
       "      <td>0</td>\n",
       "      <td>10</td>\n",
       "      <td>1</td>\n",
       "      <td>1</td>\n",
       "      <td>1</td>\n",
       "      <td>0</td>\n",
       "      <td>2</td>\n",
       "      <td>0</td>\n",
       "      <td>0</td>\n",
       "      <td>0</td>\n",
       "      <td>4</td>\n",
       "      <td>0</td>\n",
       "      <td>0</td>\n",
       "      <td>0</td>\n",
       "    </tr>\n",
       "    <tr>\n",
       "      <th>...</th>\n",
       "      <td>...</td>\n",
       "      <td>...</td>\n",
       "      <td>...</td>\n",
       "      <td>...</td>\n",
       "      <td>...</td>\n",
       "      <td>...</td>\n",
       "      <td>...</td>\n",
       "      <td>...</td>\n",
       "      <td>...</td>\n",
       "      <td>...</td>\n",
       "      <td>...</td>\n",
       "      <td>...</td>\n",
       "      <td>...</td>\n",
       "      <td>...</td>\n",
       "      <td>...</td>\n",
       "      <td>...</td>\n",
       "    </tr>\n",
       "    <tr>\n",
       "      <th>9995</th>\n",
       "      <td>0</td>\n",
       "      <td>26</td>\n",
       "      <td>0</td>\n",
       "      <td>13</td>\n",
       "      <td>2</td>\n",
       "      <td>0</td>\n",
       "      <td>0</td>\n",
       "      <td>0</td>\n",
       "      <td>3</td>\n",
       "      <td>0</td>\n",
       "      <td>0</td>\n",
       "      <td>0</td>\n",
       "      <td>2</td>\n",
       "      <td>0</td>\n",
       "      <td>0</td>\n",
       "      <td>1</td>\n",
       "    </tr>\n",
       "    <tr>\n",
       "      <th>9996</th>\n",
       "      <td>0</td>\n",
       "      <td>17</td>\n",
       "      <td>13</td>\n",
       "      <td>4</td>\n",
       "      <td>3</td>\n",
       "      <td>0</td>\n",
       "      <td>0</td>\n",
       "      <td>0</td>\n",
       "      <td>1</td>\n",
       "      <td>0</td>\n",
       "      <td>0</td>\n",
       "      <td>0</td>\n",
       "      <td>1</td>\n",
       "      <td>1</td>\n",
       "      <td>0</td>\n",
       "      <td>1</td>\n",
       "    </tr>\n",
       "    <tr>\n",
       "      <th>9997</th>\n",
       "      <td>0</td>\n",
       "      <td>34</td>\n",
       "      <td>0</td>\n",
       "      <td>15</td>\n",
       "      <td>2</td>\n",
       "      <td>0</td>\n",
       "      <td>0</td>\n",
       "      <td>0</td>\n",
       "      <td>3</td>\n",
       "      <td>0</td>\n",
       "      <td>0</td>\n",
       "      <td>0</td>\n",
       "      <td>2</td>\n",
       "      <td>0</td>\n",
       "      <td>1</td>\n",
       "      <td>1</td>\n",
       "    </tr>\n",
       "    <tr>\n",
       "      <th>9998</th>\n",
       "      <td>0</td>\n",
       "      <td>17</td>\n",
       "      <td>0</td>\n",
       "      <td>8</td>\n",
       "      <td>1</td>\n",
       "      <td>0</td>\n",
       "      <td>0</td>\n",
       "      <td>0</td>\n",
       "      <td>2</td>\n",
       "      <td>0</td>\n",
       "      <td>0</td>\n",
       "      <td>0</td>\n",
       "      <td>2</td>\n",
       "      <td>0</td>\n",
       "      <td>0</td>\n",
       "      <td>1</td>\n",
       "    </tr>\n",
       "    <tr>\n",
       "      <th>9999</th>\n",
       "      <td>0</td>\n",
       "      <td>42</td>\n",
       "      <td>0</td>\n",
       "      <td>24</td>\n",
       "      <td>3</td>\n",
       "      <td>0</td>\n",
       "      <td>0</td>\n",
       "      <td>0</td>\n",
       "      <td>4</td>\n",
       "      <td>0</td>\n",
       "      <td>0</td>\n",
       "      <td>0</td>\n",
       "      <td>3</td>\n",
       "      <td>0</td>\n",
       "      <td>0</td>\n",
       "      <td>1</td>\n",
       "    </tr>\n",
       "  </tbody>\n",
       "</table>\n",
       "<p>10000 rows × 16 columns</p>\n",
       "</div>"
      ],
      "text/plain": [
       "      QueryLength  UrlLength  NumNumericChars  HostnameLength  NumDots  \\\n",
       "0               0         30                0              14        3   \n",
       "1              39         96               15              10        2   \n",
       "2               0         36                0              21        2   \n",
       "3              35         79                7              28        3   \n",
       "4               0         35                0              10        1   \n",
       "...           ...        ...              ...             ...      ...   \n",
       "9995            0         26                0              13        2   \n",
       "9996            0         17               13               4        3   \n",
       "9997            0         34                0              15        2   \n",
       "9998            0         17                0               8        1   \n",
       "9999            0         42                0              24        3   \n",
       "\n",
       "      NumDashInHostname  NumDash  NumAmpersand  SubdomainLevel  RandomString  \\\n",
       "0                     0        0             0               4             0   \n",
       "1                     0        4             0               3             1   \n",
       "2                     0        0             0               3             0   \n",
       "3                     1        6             0               4             0   \n",
       "4                     1        1             0               2             0   \n",
       "...                 ...      ...           ...             ...           ...   \n",
       "9995                  0        0             0               3             0   \n",
       "9996                  0        0             0               1             0   \n",
       "9997                  0        0             0               3             0   \n",
       "9998                  0        0             0               2             0   \n",
       "9999                  0        0             0               4             0   \n",
       "\n",
       "      NumQueryComponents  NumPercent  PathLevel  IpAddress  NumUnderscore  \\\n",
       "0                      0           0          3          0              0   \n",
       "1                      1           0          5          0              0   \n",
       "2                      0           0          2          0              0   \n",
       "3                      0           0          2          0              0   \n",
       "4                      0           0          4          0              0   \n",
       "...                  ...         ...        ...        ...            ...   \n",
       "9995                   0           0          2          0              0   \n",
       "9996                   0           0          1          1              0   \n",
       "9997                   0           0          2          0              1   \n",
       "9998                   0           0          2          0              0   \n",
       "9999                   0           0          3          0              0   \n",
       "\n",
       "      Label  \n",
       "0         0  \n",
       "1         0  \n",
       "2         0  \n",
       "3         0  \n",
       "4         0  \n",
       "...     ...  \n",
       "9995      1  \n",
       "9996      1  \n",
       "9997      1  \n",
       "9998      1  \n",
       "9999      1  \n",
       "\n",
       "[10000 rows x 16 columns]"
      ]
     },
     "execution_count": 3,
     "metadata": {},
     "output_type": "execute_result"
    }
   ],
   "source": [
    "dataset_1"
   ]
  },
  {
   "cell_type": "markdown",
   "id": "ff37f858",
   "metadata": {},
   "source": [
    "## Creating Models Using All of the 25 Features"
   ]
  },
  {
   "cell_type": "code",
   "execution_count": 4,
   "id": "9644d04d",
   "metadata": {},
   "outputs": [],
   "source": [
    "target = dataset['Label']\n",
    "features = dataset.drop(['Label'], axis=1)"
   ]
  },
  {
   "cell_type": "code",
   "execution_count": 5,
   "id": "3143cc95",
   "metadata": {},
   "outputs": [],
   "source": [
    "# Splitting the data into training and testing sets\n",
    "X_train, X_test, y_train, y_test = train_test_split(features, target, test_size=0.2, random_state=42)"
   ]
  },
  {
   "cell_type": "code",
   "execution_count": 6,
   "id": "6b32f312",
   "metadata": {},
   "outputs": [],
   "source": [
    "from sklearn.preprocessing import MinMaxScaler\n",
    "\n",
    "scaler = MinMaxScaler()\n",
    "X_train_scaled = scaler.fit_transform(X_train)\n",
    "X_test_scaled = scaler.transform(X_test)"
   ]
  },
  {
   "cell_type": "code",
   "execution_count": null,
   "id": "2bf37747",
   "metadata": {},
   "outputs": [],
   "source": []
  },
  {
   "cell_type": "markdown",
   "id": "3b5a3161",
   "metadata": {},
   "source": [
    "### - Without Scaling"
   ]
  },
  {
   "cell_type": "code",
   "execution_count": 7,
   "id": "5eae338d",
   "metadata": {},
   "outputs": [],
   "source": [
    "lr_model = LogisticRegression()\n",
    "dt_model = DecisionTreeClassifier()\n",
    "rf_model = RandomForestClassifier()\n",
    "xgb_model = xgb.XGBClassifier()\n",
    "gb_model = GradientBoostingClassifier()\n",
    "ab_model = AdaBoostClassifier()\n",
    "svm_model = SVC()\n",
    "gnb_model = GaussianNB()"
   ]
  },
  {
   "cell_type": "code",
   "execution_count": 8,
   "id": "941a01eb",
   "metadata": {},
   "outputs": [
    {
     "name": "stderr",
     "output_type": "stream",
     "text": [
      "C:\\Users\\admi\\AppData\\Local\\Packages\\PythonSoftwareFoundation.Python.3.10_qbz5n2kfra8p0\\LocalCache\\local-packages\\Python310\\site-packages\\sklearn\\linear_model\\_logistic.py:460: ConvergenceWarning: lbfgs failed to converge (status=1):\n",
      "STOP: TOTAL NO. of ITERATIONS REACHED LIMIT.\n",
      "\n",
      "Increase the number of iterations (max_iter) or scale the data as shown in:\n",
      "    https://scikit-learn.org/stable/modules/preprocessing.html\n",
      "Please also refer to the documentation for alternative solver options:\n",
      "    https://scikit-learn.org/stable/modules/linear_model.html#logistic-regression\n",
      "  n_iter_i = _check_optimize_result(\n"
     ]
    },
    {
     "data": {
      "text/html": [
       "<style>#sk-container-id-1 {color: black;}#sk-container-id-1 pre{padding: 0;}#sk-container-id-1 div.sk-toggleable {background-color: white;}#sk-container-id-1 label.sk-toggleable__label {cursor: pointer;display: block;width: 100%;margin-bottom: 0;padding: 0.3em;box-sizing: border-box;text-align: center;}#sk-container-id-1 label.sk-toggleable__label-arrow:before {content: \"▸\";float: left;margin-right: 0.25em;color: #696969;}#sk-container-id-1 label.sk-toggleable__label-arrow:hover:before {color: black;}#sk-container-id-1 div.sk-estimator:hover label.sk-toggleable__label-arrow:before {color: black;}#sk-container-id-1 div.sk-toggleable__content {max-height: 0;max-width: 0;overflow: hidden;text-align: left;background-color: #f0f8ff;}#sk-container-id-1 div.sk-toggleable__content pre {margin: 0.2em;color: black;border-radius: 0.25em;background-color: #f0f8ff;}#sk-container-id-1 input.sk-toggleable__control:checked~div.sk-toggleable__content {max-height: 200px;max-width: 100%;overflow: auto;}#sk-container-id-1 input.sk-toggleable__control:checked~label.sk-toggleable__label-arrow:before {content: \"▾\";}#sk-container-id-1 div.sk-estimator input.sk-toggleable__control:checked~label.sk-toggleable__label {background-color: #d4ebff;}#sk-container-id-1 div.sk-label input.sk-toggleable__control:checked~label.sk-toggleable__label {background-color: #d4ebff;}#sk-container-id-1 input.sk-hidden--visually {border: 0;clip: rect(1px 1px 1px 1px);clip: rect(1px, 1px, 1px, 1px);height: 1px;margin: -1px;overflow: hidden;padding: 0;position: absolute;width: 1px;}#sk-container-id-1 div.sk-estimator {font-family: monospace;background-color: #f0f8ff;border: 1px dotted black;border-radius: 0.25em;box-sizing: border-box;margin-bottom: 0.5em;}#sk-container-id-1 div.sk-estimator:hover {background-color: #d4ebff;}#sk-container-id-1 div.sk-parallel-item::after {content: \"\";width: 100%;border-bottom: 1px solid gray;flex-grow: 1;}#sk-container-id-1 div.sk-label:hover label.sk-toggleable__label {background-color: #d4ebff;}#sk-container-id-1 div.sk-serial::before {content: \"\";position: absolute;border-left: 1px solid gray;box-sizing: border-box;top: 0;bottom: 0;left: 50%;z-index: 0;}#sk-container-id-1 div.sk-serial {display: flex;flex-direction: column;align-items: center;background-color: white;padding-right: 0.2em;padding-left: 0.2em;position: relative;}#sk-container-id-1 div.sk-item {position: relative;z-index: 1;}#sk-container-id-1 div.sk-parallel {display: flex;align-items: stretch;justify-content: center;background-color: white;position: relative;}#sk-container-id-1 div.sk-item::before, #sk-container-id-1 div.sk-parallel-item::before {content: \"\";position: absolute;border-left: 1px solid gray;box-sizing: border-box;top: 0;bottom: 0;left: 50%;z-index: -1;}#sk-container-id-1 div.sk-parallel-item {display: flex;flex-direction: column;z-index: 1;position: relative;background-color: white;}#sk-container-id-1 div.sk-parallel-item:first-child::after {align-self: flex-end;width: 50%;}#sk-container-id-1 div.sk-parallel-item:last-child::after {align-self: flex-start;width: 50%;}#sk-container-id-1 div.sk-parallel-item:only-child::after {width: 0;}#sk-container-id-1 div.sk-dashed-wrapped {border: 1px dashed gray;margin: 0 0.4em 0.5em 0.4em;box-sizing: border-box;padding-bottom: 0.4em;background-color: white;}#sk-container-id-1 div.sk-label label {font-family: monospace;font-weight: bold;display: inline-block;line-height: 1.2em;}#sk-container-id-1 div.sk-label-container {text-align: center;}#sk-container-id-1 div.sk-container {/* jupyter's `normalize.less` sets `[hidden] { display: none; }` but bootstrap.min.css set `[hidden] { display: none !important; }` so we also need the `!important` here to be able to override the default hidden behavior on the sphinx rendered scikit-learn.org. See: https://github.com/scikit-learn/scikit-learn/issues/21755 */display: inline-block !important;position: relative;}#sk-container-id-1 div.sk-text-repr-fallback {display: none;}</style><div id=\"sk-container-id-1\" class=\"sk-top-container\"><div class=\"sk-text-repr-fallback\"><pre>GaussianNB()</pre><b>In a Jupyter environment, please rerun this cell to show the HTML representation or trust the notebook. <br />On GitHub, the HTML representation is unable to render, please try loading this page with nbviewer.org.</b></div><div class=\"sk-container\" hidden><div class=\"sk-item\"><div class=\"sk-estimator sk-toggleable\"><input class=\"sk-toggleable__control sk-hidden--visually\" id=\"sk-estimator-id-1\" type=\"checkbox\" checked><label for=\"sk-estimator-id-1\" class=\"sk-toggleable__label sk-toggleable__label-arrow\">GaussianNB</label><div class=\"sk-toggleable__content\"><pre>GaussianNB()</pre></div></div></div></div></div>"
      ],
      "text/plain": [
       "GaussianNB()"
      ]
     },
     "execution_count": 8,
     "metadata": {},
     "output_type": "execute_result"
    }
   ],
   "source": [
    "lr_model.fit(X_train, y_train)\n",
    "dt_model.fit(X_train, y_train)\n",
    "rf_model.fit(X_train, y_train)\n",
    "xgb_model.fit(X_train, y_train)\n",
    "gb_model.fit(X_train, y_train)\n",
    "ab_model.fit(X_train, y_train)\n",
    "svm_model.fit(X_train, y_train)\n",
    "gnb_model.fit(X_train, y_train)"
   ]
  },
  {
   "cell_type": "code",
   "execution_count": 9,
   "id": "26613019",
   "metadata": {},
   "outputs": [],
   "source": [
    "# Making predictions\n",
    "lr_pred = lr_model.predict(X_test)\n",
    "dt_pred = dt_model.predict(X_test)\n",
    "rf_pred = rf_model.predict(X_test)\n",
    "xgb_pred = xgb_model.predict(X_test)\n",
    "gb_pred = gb_model.predict(X_test)\n",
    "ab_pred = ab_model.predict(X_test)\n",
    "svm_pred = svm_model.predict(X_test)\n",
    "gnb_pred = gnb_model.predict(X_test)"
   ]
  },
  {
   "cell_type": "code",
   "execution_count": 10,
   "id": "4159e549",
   "metadata": {},
   "outputs": [],
   "source": [
    "# Evaluating the models\n",
    "lr_accuracy = accuracy_score(y_test, lr_pred)\n",
    "dt_accuracy = accuracy_score(y_test, dt_pred)\n",
    "rf_accuracy = accuracy_score(y_test, rf_pred)\n",
    "xgb_accuracy = accuracy_score(y_test, xgb_pred)\n",
    "gb_accuracy = accuracy_score(y_test, gb_pred)\n",
    "ab_accuracy = accuracy_score(y_test, ab_pred)\n",
    "svm_accuracy = accuracy_score(y_test, svm_pred)\n",
    "gnb_accuracy = accuracy_score(y_test, gnb_pred)"
   ]
  },
  {
   "cell_type": "code",
   "execution_count": 11,
   "id": "3a895496",
   "metadata": {},
   "outputs": [
    {
     "name": "stdout",
     "output_type": "stream",
     "text": [
      "XGBoost Accuracy: 0.813\n",
      "Decision Tree Accuracy: 0.7785\n",
      "Random Forest Accuracy: 0.8145\n",
      "Logistic Regression Accuracy: 0.709\n",
      "Gradient Boosting Accuracy: 0.782\n",
      "AdaBoost Accuracy: 0.767\n",
      "SVM Accuracy: 0.687\n",
      "GaussianNB Accuracy: 0.664\n"
     ]
    }
   ],
   "source": [
    "print(\"XGBoost Accuracy:\", xgb_accuracy)\n",
    "print(\"Decision Tree Accuracy:\", dt_accuracy)\n",
    "print(\"Random Forest Accuracy:\", rf_accuracy)\n",
    "print(\"Logistic Regression Accuracy:\", lr_accuracy)\n",
    "print(\"Gradient Boosting Accuracy:\", gb_accuracy)\n",
    "print(\"AdaBoost Accuracy:\", ab_accuracy)\n",
    "print(\"SVM Accuracy:\", svm_accuracy)\n",
    "print(\"GaussianNB Accuracy:\", gnb_accuracy)"
   ]
  },
  {
   "cell_type": "markdown",
   "id": "85953e89",
   "metadata": {},
   "source": [
    "### - With Scaling"
   ]
  },
  {
   "cell_type": "code",
   "execution_count": 12,
   "id": "2e6dbd66",
   "metadata": {},
   "outputs": [],
   "source": [
    "lr_model_scaled = LogisticRegression()\n",
    "dt_model_scaled = DecisionTreeClassifier()\n",
    "rf_model_scaled = RandomForestClassifier()\n",
    "xgb_model_scaled = xgb.XGBClassifier()\n",
    "gb_model_scaled = GradientBoostingClassifier()\n",
    "ab_model_scaled = AdaBoostClassifier()\n",
    "svm_model_scaled = SVC()\n",
    "knn_model_scaled = KNeighborsClassifier()\n",
    "gnb_model_scaled = GaussianNB()"
   ]
  },
  {
   "cell_type": "code",
   "execution_count": 13,
   "id": "ae9d1a65",
   "metadata": {},
   "outputs": [
    {
     "data": {
      "text/html": [
       "<style>#sk-container-id-2 {color: black;}#sk-container-id-2 pre{padding: 0;}#sk-container-id-2 div.sk-toggleable {background-color: white;}#sk-container-id-2 label.sk-toggleable__label {cursor: pointer;display: block;width: 100%;margin-bottom: 0;padding: 0.3em;box-sizing: border-box;text-align: center;}#sk-container-id-2 label.sk-toggleable__label-arrow:before {content: \"▸\";float: left;margin-right: 0.25em;color: #696969;}#sk-container-id-2 label.sk-toggleable__label-arrow:hover:before {color: black;}#sk-container-id-2 div.sk-estimator:hover label.sk-toggleable__label-arrow:before {color: black;}#sk-container-id-2 div.sk-toggleable__content {max-height: 0;max-width: 0;overflow: hidden;text-align: left;background-color: #f0f8ff;}#sk-container-id-2 div.sk-toggleable__content pre {margin: 0.2em;color: black;border-radius: 0.25em;background-color: #f0f8ff;}#sk-container-id-2 input.sk-toggleable__control:checked~div.sk-toggleable__content {max-height: 200px;max-width: 100%;overflow: auto;}#sk-container-id-2 input.sk-toggleable__control:checked~label.sk-toggleable__label-arrow:before {content: \"▾\";}#sk-container-id-2 div.sk-estimator input.sk-toggleable__control:checked~label.sk-toggleable__label {background-color: #d4ebff;}#sk-container-id-2 div.sk-label input.sk-toggleable__control:checked~label.sk-toggleable__label {background-color: #d4ebff;}#sk-container-id-2 input.sk-hidden--visually {border: 0;clip: rect(1px 1px 1px 1px);clip: rect(1px, 1px, 1px, 1px);height: 1px;margin: -1px;overflow: hidden;padding: 0;position: absolute;width: 1px;}#sk-container-id-2 div.sk-estimator {font-family: monospace;background-color: #f0f8ff;border: 1px dotted black;border-radius: 0.25em;box-sizing: border-box;margin-bottom: 0.5em;}#sk-container-id-2 div.sk-estimator:hover {background-color: #d4ebff;}#sk-container-id-2 div.sk-parallel-item::after {content: \"\";width: 100%;border-bottom: 1px solid gray;flex-grow: 1;}#sk-container-id-2 div.sk-label:hover label.sk-toggleable__label {background-color: #d4ebff;}#sk-container-id-2 div.sk-serial::before {content: \"\";position: absolute;border-left: 1px solid gray;box-sizing: border-box;top: 0;bottom: 0;left: 50%;z-index: 0;}#sk-container-id-2 div.sk-serial {display: flex;flex-direction: column;align-items: center;background-color: white;padding-right: 0.2em;padding-left: 0.2em;position: relative;}#sk-container-id-2 div.sk-item {position: relative;z-index: 1;}#sk-container-id-2 div.sk-parallel {display: flex;align-items: stretch;justify-content: center;background-color: white;position: relative;}#sk-container-id-2 div.sk-item::before, #sk-container-id-2 div.sk-parallel-item::before {content: \"\";position: absolute;border-left: 1px solid gray;box-sizing: border-box;top: 0;bottom: 0;left: 50%;z-index: -1;}#sk-container-id-2 div.sk-parallel-item {display: flex;flex-direction: column;z-index: 1;position: relative;background-color: white;}#sk-container-id-2 div.sk-parallel-item:first-child::after {align-self: flex-end;width: 50%;}#sk-container-id-2 div.sk-parallel-item:last-child::after {align-self: flex-start;width: 50%;}#sk-container-id-2 div.sk-parallel-item:only-child::after {width: 0;}#sk-container-id-2 div.sk-dashed-wrapped {border: 1px dashed gray;margin: 0 0.4em 0.5em 0.4em;box-sizing: border-box;padding-bottom: 0.4em;background-color: white;}#sk-container-id-2 div.sk-label label {font-family: monospace;font-weight: bold;display: inline-block;line-height: 1.2em;}#sk-container-id-2 div.sk-label-container {text-align: center;}#sk-container-id-2 div.sk-container {/* jupyter's `normalize.less` sets `[hidden] { display: none; }` but bootstrap.min.css set `[hidden] { display: none !important; }` so we also need the `!important` here to be able to override the default hidden behavior on the sphinx rendered scikit-learn.org. See: https://github.com/scikit-learn/scikit-learn/issues/21755 */display: inline-block !important;position: relative;}#sk-container-id-2 div.sk-text-repr-fallback {display: none;}</style><div id=\"sk-container-id-2\" class=\"sk-top-container\"><div class=\"sk-text-repr-fallback\"><pre>GaussianNB()</pre><b>In a Jupyter environment, please rerun this cell to show the HTML representation or trust the notebook. <br />On GitHub, the HTML representation is unable to render, please try loading this page with nbviewer.org.</b></div><div class=\"sk-container\" hidden><div class=\"sk-item\"><div class=\"sk-estimator sk-toggleable\"><input class=\"sk-toggleable__control sk-hidden--visually\" id=\"sk-estimator-id-2\" type=\"checkbox\" checked><label for=\"sk-estimator-id-2\" class=\"sk-toggleable__label sk-toggleable__label-arrow\">GaussianNB</label><div class=\"sk-toggleable__content\"><pre>GaussianNB()</pre></div></div></div></div></div>"
      ],
      "text/plain": [
       "GaussianNB()"
      ]
     },
     "execution_count": 13,
     "metadata": {},
     "output_type": "execute_result"
    }
   ],
   "source": [
    "lr_model_scaled.fit(X_train_scaled, y_train)\n",
    "dt_model_scaled.fit(X_train_scaled, y_train)\n",
    "rf_model_scaled.fit(X_train_scaled, y_train)\n",
    "xgb_model_scaled.fit(X_train_scaled, y_train)\n",
    "gb_model_scaled.fit(X_train_scaled, y_train)\n",
    "ab_model_scaled.fit(X_train_scaled, y_train)\n",
    "svm_model_scaled.fit(X_train_scaled, y_train)\n",
    "knn_model_scaled.fit(X_train_scaled, y_train)\n",
    "gnb_model_scaled.fit(X_train_scaled, y_train)"
   ]
  },
  {
   "cell_type": "code",
   "execution_count": 14,
   "id": "0629bd72",
   "metadata": {},
   "outputs": [],
   "source": [
    "lr_pred_scaled = lr_model_scaled.predict(X_test_scaled)\n",
    "dt_pred_scaled = dt_model_scaled.predict(X_test_scaled)\n",
    "rf_pred_scaled = rf_model_scaled.predict(X_test_scaled)\n",
    "xgb_pred_scaled = xgb_model_scaled.predict(X_test_scaled)\n",
    "gb_pred_scaled = gb_model_scaled.predict(X_test_scaled)\n",
    "ab_pred_scaled = ab_model_scaled.predict(X_test_scaled)\n",
    "svm_pred_scaled = svm_model_scaled.predict(X_test_scaled)\n",
    "knn_pred_scaled = knn_model_scaled.predict(X_test_scaled)\n",
    "gnb_pred_scaled = gnb_model_scaled.predict(X_test_scaled)"
   ]
  },
  {
   "cell_type": "code",
   "execution_count": 15,
   "id": "704e190b",
   "metadata": {},
   "outputs": [],
   "source": [
    "# Evaluating the models\n",
    "lr_accuracy_scaled = accuracy_score(y_test, lr_pred_scaled)\n",
    "dt_accuracy_scaled = accuracy_score(y_test, dt_pred_scaled)\n",
    "rf_accuracy_scaled = accuracy_score(y_test, rf_pred_scaled)\n",
    "xgb_accuracy_scaled = accuracy_score(y_test, xgb_pred_scaled)\n",
    "gb_accuracy_scaled = accuracy_score(y_test, gb_pred_scaled)\n",
    "ab_accuracy_scaled = accuracy_score(y_test, ab_pred_scaled)\n",
    "svm_accuracy_scaled = accuracy_score(y_test, svm_pred_scaled)\n",
    "knn_accuracy_scaled = accuracy_score(y_test, knn_pred_scaled)\n",
    "gnb_accuracy_scaled = accuracy_score(y_test, gnb_pred_scaled)"
   ]
  },
  {
   "cell_type": "code",
   "execution_count": 16,
   "id": "2a02ee01",
   "metadata": {},
   "outputs": [
    {
     "name": "stdout",
     "output_type": "stream",
     "text": [
      "XGBoost Accuracy: 0.813\n",
      "Decision Tree Accuracy: 0.776\n",
      "Random Forest Accuracy: 0.812\n",
      "Logistic Regression Accuracy: 0.71\n",
      "Gradient Boosting Accuracy: 0.782\n",
      "AdaBoost Accuracy: 0.767\n",
      "SVM Accuracy: 0.7175\n",
      "KNN Accuracy: 0.7975\n",
      "GaussianNB Accuracy: 0.6445\n"
     ]
    }
   ],
   "source": [
    "print(\"XGBoost Accuracy:\", xgb_accuracy_scaled)\n",
    "print(\"Decision Tree Accuracy:\", dt_accuracy_scaled)\n",
    "print(\"Random Forest Accuracy:\", rf_accuracy_scaled)\n",
    "print(\"Logistic Regression Accuracy:\", lr_accuracy_scaled)\n",
    "print(\"Gradient Boosting Accuracy:\", gb_accuracy_scaled)\n",
    "print(\"AdaBoost Accuracy:\", ab_accuracy_scaled)\n",
    "print(\"SVM Accuracy:\", svm_accuracy_scaled)\n",
    "print(\"KNN Accuracy:\", knn_accuracy_scaled)\n",
    "print(\"GaussianNB Accuracy:\", gnb_accuracy_scaled)"
   ]
  },
  {
   "cell_type": "markdown",
   "id": "5ce52760",
   "metadata": {},
   "source": [
    "## Creating Models with Selected Features"
   ]
  },
  {
   "cell_type": "markdown",
   "id": "d7c15251",
   "metadata": {},
   "source": [
    "### 1. Univariate Feature Selection "
   ]
  },
  {
   "cell_type": "code",
   "execution_count": 17,
   "id": "77be3481",
   "metadata": {},
   "outputs": [],
   "source": [
    "target_1 = dataset_1['Label']\n",
    "features_1 = dataset_1.drop(['Label'], axis=1)"
   ]
  },
  {
   "cell_type": "code",
   "execution_count": 18,
   "id": "5a348ce3",
   "metadata": {},
   "outputs": [],
   "source": [
    "# Splitting the data into training and testing sets\n",
    "X_train_1, X_test_1, y_train_1, y_test_1 = train_test_split(features_1, target_1, test_size=0.2, random_state=42)"
   ]
  },
  {
   "cell_type": "code",
   "execution_count": 19,
   "id": "bb9ee9dc",
   "metadata": {},
   "outputs": [],
   "source": [
    "from sklearn.preprocessing import MinMaxScaler\n",
    "\n",
    "scaler_1 = MinMaxScaler()\n",
    "X_train_scaled_1 = scaler.fit_transform(X_train_1)\n",
    "X_test_scaled_1 = scaler.transform(X_test_1)"
   ]
  },
  {
   "cell_type": "code",
   "execution_count": 20,
   "id": "8a8a81f5",
   "metadata": {},
   "outputs": [],
   "source": [
    "lr_model_1 = LogisticRegression()\n",
    "dt_model_1 = DecisionTreeClassifier()\n",
    "rf_model_1 = RandomForestClassifier()\n",
    "xgb_model_1 = xgb.XGBClassifier()\n",
    "gb_model_1 = GradientBoostingClassifier()\n",
    "ab_model_1 = AdaBoostClassifier()\n",
    "svm_model_1 = SVC()\n",
    "knn_model_1 = KNeighborsClassifier()\n",
    "gnb_model_1 = GaussianNB()"
   ]
  },
  {
   "cell_type": "code",
   "execution_count": 21,
   "id": "3ef860f0",
   "metadata": {},
   "outputs": [
    {
     "data": {
      "text/html": [
       "<style>#sk-container-id-3 {color: black;}#sk-container-id-3 pre{padding: 0;}#sk-container-id-3 div.sk-toggleable {background-color: white;}#sk-container-id-3 label.sk-toggleable__label {cursor: pointer;display: block;width: 100%;margin-bottom: 0;padding: 0.3em;box-sizing: border-box;text-align: center;}#sk-container-id-3 label.sk-toggleable__label-arrow:before {content: \"▸\";float: left;margin-right: 0.25em;color: #696969;}#sk-container-id-3 label.sk-toggleable__label-arrow:hover:before {color: black;}#sk-container-id-3 div.sk-estimator:hover label.sk-toggleable__label-arrow:before {color: black;}#sk-container-id-3 div.sk-toggleable__content {max-height: 0;max-width: 0;overflow: hidden;text-align: left;background-color: #f0f8ff;}#sk-container-id-3 div.sk-toggleable__content pre {margin: 0.2em;color: black;border-radius: 0.25em;background-color: #f0f8ff;}#sk-container-id-3 input.sk-toggleable__control:checked~div.sk-toggleable__content {max-height: 200px;max-width: 100%;overflow: auto;}#sk-container-id-3 input.sk-toggleable__control:checked~label.sk-toggleable__label-arrow:before {content: \"▾\";}#sk-container-id-3 div.sk-estimator input.sk-toggleable__control:checked~label.sk-toggleable__label {background-color: #d4ebff;}#sk-container-id-3 div.sk-label input.sk-toggleable__control:checked~label.sk-toggleable__label {background-color: #d4ebff;}#sk-container-id-3 input.sk-hidden--visually {border: 0;clip: rect(1px 1px 1px 1px);clip: rect(1px, 1px, 1px, 1px);height: 1px;margin: -1px;overflow: hidden;padding: 0;position: absolute;width: 1px;}#sk-container-id-3 div.sk-estimator {font-family: monospace;background-color: #f0f8ff;border: 1px dotted black;border-radius: 0.25em;box-sizing: border-box;margin-bottom: 0.5em;}#sk-container-id-3 div.sk-estimator:hover {background-color: #d4ebff;}#sk-container-id-3 div.sk-parallel-item::after {content: \"\";width: 100%;border-bottom: 1px solid gray;flex-grow: 1;}#sk-container-id-3 div.sk-label:hover label.sk-toggleable__label {background-color: #d4ebff;}#sk-container-id-3 div.sk-serial::before {content: \"\";position: absolute;border-left: 1px solid gray;box-sizing: border-box;top: 0;bottom: 0;left: 50%;z-index: 0;}#sk-container-id-3 div.sk-serial {display: flex;flex-direction: column;align-items: center;background-color: white;padding-right: 0.2em;padding-left: 0.2em;position: relative;}#sk-container-id-3 div.sk-item {position: relative;z-index: 1;}#sk-container-id-3 div.sk-parallel {display: flex;align-items: stretch;justify-content: center;background-color: white;position: relative;}#sk-container-id-3 div.sk-item::before, #sk-container-id-3 div.sk-parallel-item::before {content: \"\";position: absolute;border-left: 1px solid gray;box-sizing: border-box;top: 0;bottom: 0;left: 50%;z-index: -1;}#sk-container-id-3 div.sk-parallel-item {display: flex;flex-direction: column;z-index: 1;position: relative;background-color: white;}#sk-container-id-3 div.sk-parallel-item:first-child::after {align-self: flex-end;width: 50%;}#sk-container-id-3 div.sk-parallel-item:last-child::after {align-self: flex-start;width: 50%;}#sk-container-id-3 div.sk-parallel-item:only-child::after {width: 0;}#sk-container-id-3 div.sk-dashed-wrapped {border: 1px dashed gray;margin: 0 0.4em 0.5em 0.4em;box-sizing: border-box;padding-bottom: 0.4em;background-color: white;}#sk-container-id-3 div.sk-label label {font-family: monospace;font-weight: bold;display: inline-block;line-height: 1.2em;}#sk-container-id-3 div.sk-label-container {text-align: center;}#sk-container-id-3 div.sk-container {/* jupyter's `normalize.less` sets `[hidden] { display: none; }` but bootstrap.min.css set `[hidden] { display: none !important; }` so we also need the `!important` here to be able to override the default hidden behavior on the sphinx rendered scikit-learn.org. See: https://github.com/scikit-learn/scikit-learn/issues/21755 */display: inline-block !important;position: relative;}#sk-container-id-3 div.sk-text-repr-fallback {display: none;}</style><div id=\"sk-container-id-3\" class=\"sk-top-container\"><div class=\"sk-text-repr-fallback\"><pre>GaussianNB()</pre><b>In a Jupyter environment, please rerun this cell to show the HTML representation or trust the notebook. <br />On GitHub, the HTML representation is unable to render, please try loading this page with nbviewer.org.</b></div><div class=\"sk-container\" hidden><div class=\"sk-item\"><div class=\"sk-estimator sk-toggleable\"><input class=\"sk-toggleable__control sk-hidden--visually\" id=\"sk-estimator-id-3\" type=\"checkbox\" checked><label for=\"sk-estimator-id-3\" class=\"sk-toggleable__label sk-toggleable__label-arrow\">GaussianNB</label><div class=\"sk-toggleable__content\"><pre>GaussianNB()</pre></div></div></div></div></div>"
      ],
      "text/plain": [
       "GaussianNB()"
      ]
     },
     "execution_count": 21,
     "metadata": {},
     "output_type": "execute_result"
    }
   ],
   "source": [
    "lr_model_1.fit(X_train_scaled_1, y_train)\n",
    "dt_model_1.fit(X_train_scaled_1, y_train)\n",
    "rf_model_1.fit(X_train_scaled_1, y_train)\n",
    "xgb_model_1.fit(X_train_scaled_1, y_train)\n",
    "gb_model_1.fit(X_train_scaled_1, y_train)\n",
    "ab_model_1.fit(X_train_scaled_1, y_train)\n",
    "svm_model_1.fit(X_train_scaled_1, y_train)\n",
    "knn_model_1.fit(X_train_scaled_1, y_train)\n",
    "gnb_model_1.fit(X_train_scaled_1, y_train)"
   ]
  },
  {
   "cell_type": "code",
   "execution_count": 22,
   "id": "40d7cea4",
   "metadata": {},
   "outputs": [],
   "source": [
    "# Making predictions\n",
    "lr_pred_1 = lr_model_1.predict(X_test_scaled_1)\n",
    "dt_pred_1 = dt_model_1.predict(X_test_scaled_1)\n",
    "rf_pred_1 = rf_model_1.predict(X_test_scaled_1)\n",
    "xgb_pred_1 = xgb_model_1.predict(X_test_scaled_1)\n",
    "gb_pred_1 = gb_model_1.predict(X_test_scaled_1)\n",
    "ab_pred_1 = ab_model_1.predict(X_test_scaled_1)\n",
    "svm_pred_1 = svm_model_1.predict(X_test_scaled_1)\n",
    "knn_pred_1 = knn_model_1.predict(X_test_scaled_1)\n",
    "gnb_pred_1 = gnb_model_1.predict(X_test_scaled_1)"
   ]
  },
  {
   "cell_type": "code",
   "execution_count": 23,
   "id": "d1e0d708",
   "metadata": {},
   "outputs": [],
   "source": [
    "# Evaluating the models\n",
    "lr_accuracy_1 = accuracy_score(y_test, lr_pred_1)\n",
    "dt_accuracy_1 = accuracy_score(y_test, dt_pred_1)\n",
    "rf_accuracy_1 = accuracy_score(y_test, rf_pred_1)\n",
    "xgb_accuracy_1 = accuracy_score(y_test, xgb_pred_1)\n",
    "gb_accuracy_1 = accuracy_score(y_test, gb_pred_1)\n",
    "ab_accuracy_1 = accuracy_score(y_test, ab_pred_1)\n",
    "svm_accuracy_1 = accuracy_score(y_test, svm_pred_1)\n",
    "knn_accuracy_1 = accuracy_score(y_test, knn_pred_1)\n",
    "gnb_accuracy_1 = accuracy_score(y_test, gnb_pred_1)"
   ]
  },
  {
   "cell_type": "code",
   "execution_count": 24,
   "id": "11d0aa28",
   "metadata": {
    "scrolled": true
   },
   "outputs": [
    {
     "name": "stdout",
     "output_type": "stream",
     "text": [
      "XGBoost Accuracy: 0.798\n",
      "Decision Tree Accuracy: 0.7765\n",
      "Random Forest Accuracy: 0.8035\n",
      "Logistic Regression Accuracy: 0.693\n",
      "Gradient Boosting Accuracy: 0.769\n",
      "AdaBoost Accuracy: 0.7375\n",
      "SVM Accuracy: 0.725\n",
      "KNN Accuracy: 0.7845\n",
      "GaussianNB Accuracy: 0.6605\n"
     ]
    }
   ],
   "source": [
    "print(\"XGBoost Accuracy:\", xgb_accuracy_1)\n",
    "print(\"Decision Tree Accuracy:\", dt_accuracy_1)\n",
    "print(\"Random Forest Accuracy:\", rf_accuracy_1)\n",
    "print(\"Logistic Regression Accuracy:\", lr_accuracy_1)\n",
    "print(\"Gradient Boosting Accuracy:\", gb_accuracy_1)\n",
    "print(\"AdaBoost Accuracy:\", ab_accuracy_1)\n",
    "print(\"SVM Accuracy:\", svm_accuracy_1)\n",
    "print(\"KNN Accuracy:\", knn_accuracy_1)\n",
    "print(\"GaussianNB Accuracy:\", gnb_accuracy_1)"
   ]
  },
  {
   "cell_type": "markdown",
   "id": "99debdcd",
   "metadata": {},
   "source": [
    "### 2. Using ExtraTrees Classifier"
   ]
  },
  {
   "cell_type": "code",
   "execution_count": 25,
   "id": "5a1b61cb",
   "metadata": {},
   "outputs": [],
   "source": [
    "target_2 = dataset_2['Label']\n",
    "features_2 = dataset_2.drop(['Label'], axis=1)"
   ]
  },
  {
   "cell_type": "code",
   "execution_count": 26,
   "id": "00a4a86d",
   "metadata": {},
   "outputs": [],
   "source": [
    "# Splitting the data into training and testing sets\n",
    "X_train_2, X_test_2, y_train_2, y_test_2 = train_test_split(features_2, target_2, test_size=0.2, random_state=42)"
   ]
  },
  {
   "cell_type": "code",
   "execution_count": 27,
   "id": "bd529e54",
   "metadata": {},
   "outputs": [],
   "source": [
    "from sklearn.preprocessing import MinMaxScaler\n",
    "\n",
    "scaler_2 = MinMaxScaler()\n",
    "X_train_scaled_2 = scaler.fit_transform(X_train_2)\n",
    "X_test_scaled_2 = scaler.transform(X_test_2)"
   ]
  },
  {
   "cell_type": "code",
   "execution_count": 28,
   "id": "def44d69",
   "metadata": {},
   "outputs": [],
   "source": [
    "lr_model_2 = LogisticRegression()\n",
    "dt_model_2 = DecisionTreeClassifier()\n",
    "rf_model_2 = RandomForestClassifier()\n",
    "xgb_model_2 = xgb.XGBClassifier()\n",
    "gb_model_2 = GradientBoostingClassifier()\n",
    "ab_model_2 = AdaBoostClassifier()\n",
    "svm_model_2 = SVC()\n",
    "knn_model_2 = KNeighborsClassifier()\n",
    "gnb_model_2 = GaussianNB()"
   ]
  },
  {
   "cell_type": "code",
   "execution_count": 29,
   "id": "4c370a17",
   "metadata": {},
   "outputs": [
    {
     "data": {
      "text/html": [
       "<style>#sk-container-id-4 {color: black;}#sk-container-id-4 pre{padding: 0;}#sk-container-id-4 div.sk-toggleable {background-color: white;}#sk-container-id-4 label.sk-toggleable__label {cursor: pointer;display: block;width: 100%;margin-bottom: 0;padding: 0.3em;box-sizing: border-box;text-align: center;}#sk-container-id-4 label.sk-toggleable__label-arrow:before {content: \"▸\";float: left;margin-right: 0.25em;color: #696969;}#sk-container-id-4 label.sk-toggleable__label-arrow:hover:before {color: black;}#sk-container-id-4 div.sk-estimator:hover label.sk-toggleable__label-arrow:before {color: black;}#sk-container-id-4 div.sk-toggleable__content {max-height: 0;max-width: 0;overflow: hidden;text-align: left;background-color: #f0f8ff;}#sk-container-id-4 div.sk-toggleable__content pre {margin: 0.2em;color: black;border-radius: 0.25em;background-color: #f0f8ff;}#sk-container-id-4 input.sk-toggleable__control:checked~div.sk-toggleable__content {max-height: 200px;max-width: 100%;overflow: auto;}#sk-container-id-4 input.sk-toggleable__control:checked~label.sk-toggleable__label-arrow:before {content: \"▾\";}#sk-container-id-4 div.sk-estimator input.sk-toggleable__control:checked~label.sk-toggleable__label {background-color: #d4ebff;}#sk-container-id-4 div.sk-label input.sk-toggleable__control:checked~label.sk-toggleable__label {background-color: #d4ebff;}#sk-container-id-4 input.sk-hidden--visually {border: 0;clip: rect(1px 1px 1px 1px);clip: rect(1px, 1px, 1px, 1px);height: 1px;margin: -1px;overflow: hidden;padding: 0;position: absolute;width: 1px;}#sk-container-id-4 div.sk-estimator {font-family: monospace;background-color: #f0f8ff;border: 1px dotted black;border-radius: 0.25em;box-sizing: border-box;margin-bottom: 0.5em;}#sk-container-id-4 div.sk-estimator:hover {background-color: #d4ebff;}#sk-container-id-4 div.sk-parallel-item::after {content: \"\";width: 100%;border-bottom: 1px solid gray;flex-grow: 1;}#sk-container-id-4 div.sk-label:hover label.sk-toggleable__label {background-color: #d4ebff;}#sk-container-id-4 div.sk-serial::before {content: \"\";position: absolute;border-left: 1px solid gray;box-sizing: border-box;top: 0;bottom: 0;left: 50%;z-index: 0;}#sk-container-id-4 div.sk-serial {display: flex;flex-direction: column;align-items: center;background-color: white;padding-right: 0.2em;padding-left: 0.2em;position: relative;}#sk-container-id-4 div.sk-item {position: relative;z-index: 1;}#sk-container-id-4 div.sk-parallel {display: flex;align-items: stretch;justify-content: center;background-color: white;position: relative;}#sk-container-id-4 div.sk-item::before, #sk-container-id-4 div.sk-parallel-item::before {content: \"\";position: absolute;border-left: 1px solid gray;box-sizing: border-box;top: 0;bottom: 0;left: 50%;z-index: -1;}#sk-container-id-4 div.sk-parallel-item {display: flex;flex-direction: column;z-index: 1;position: relative;background-color: white;}#sk-container-id-4 div.sk-parallel-item:first-child::after {align-self: flex-end;width: 50%;}#sk-container-id-4 div.sk-parallel-item:last-child::after {align-self: flex-start;width: 50%;}#sk-container-id-4 div.sk-parallel-item:only-child::after {width: 0;}#sk-container-id-4 div.sk-dashed-wrapped {border: 1px dashed gray;margin: 0 0.4em 0.5em 0.4em;box-sizing: border-box;padding-bottom: 0.4em;background-color: white;}#sk-container-id-4 div.sk-label label {font-family: monospace;font-weight: bold;display: inline-block;line-height: 1.2em;}#sk-container-id-4 div.sk-label-container {text-align: center;}#sk-container-id-4 div.sk-container {/* jupyter's `normalize.less` sets `[hidden] { display: none; }` but bootstrap.min.css set `[hidden] { display: none !important; }` so we also need the `!important` here to be able to override the default hidden behavior on the sphinx rendered scikit-learn.org. See: https://github.com/scikit-learn/scikit-learn/issues/21755 */display: inline-block !important;position: relative;}#sk-container-id-4 div.sk-text-repr-fallback {display: none;}</style><div id=\"sk-container-id-4\" class=\"sk-top-container\"><div class=\"sk-text-repr-fallback\"><pre>GaussianNB()</pre><b>In a Jupyter environment, please rerun this cell to show the HTML representation or trust the notebook. <br />On GitHub, the HTML representation is unable to render, please try loading this page with nbviewer.org.</b></div><div class=\"sk-container\" hidden><div class=\"sk-item\"><div class=\"sk-estimator sk-toggleable\"><input class=\"sk-toggleable__control sk-hidden--visually\" id=\"sk-estimator-id-4\" type=\"checkbox\" checked><label for=\"sk-estimator-id-4\" class=\"sk-toggleable__label sk-toggleable__label-arrow\">GaussianNB</label><div class=\"sk-toggleable__content\"><pre>GaussianNB()</pre></div></div></div></div></div>"
      ],
      "text/plain": [
       "GaussianNB()"
      ]
     },
     "execution_count": 29,
     "metadata": {},
     "output_type": "execute_result"
    }
   ],
   "source": [
    "lr_model_2.fit(X_train_scaled_2, y_train)\n",
    "dt_model_2.fit(X_train_scaled_2, y_train)\n",
    "rf_model_2.fit(X_train_scaled_2, y_train)\n",
    "xgb_model_2.fit(X_train_scaled_2, y_train)\n",
    "gb_model_2.fit(X_train_scaled_2, y_train)\n",
    "ab_model_2.fit(X_train_scaled_2, y_train)\n",
    "svm_model_2.fit(X_train_scaled_2, y_train)\n",
    "knn_model_2.fit(X_train_scaled_2, y_train)\n",
    "gnb_model_2.fit(X_train_scaled_2, y_train)"
   ]
  },
  {
   "cell_type": "code",
   "execution_count": 30,
   "id": "4b9c0804",
   "metadata": {},
   "outputs": [],
   "source": [
    "# Making predictions\n",
    "lr_pred_2 = lr_model_2.predict(X_test_scaled_2)\n",
    "dt_pred_2 = dt_model_2.predict(X_test_scaled_2)\n",
    "rf_pred_2 = rf_model_2.predict(X_test_scaled_2)\n",
    "xgb_pred_2 = xgb_model_2.predict(X_test_scaled_2)\n",
    "gb_pred_2 = gb_model_2.predict(X_test_scaled_2)\n",
    "ab_pred_2 = ab_model_2.predict(X_test_scaled_2)\n",
    "svm_pred_2 = svm_model_2.predict(X_test_scaled_2)\n",
    "knn_pred_2 = knn_model_2.predict(X_test_scaled_2)\n",
    "gnb_pred_2 = gnb_model_2.predict(X_test_scaled_2)"
   ]
  },
  {
   "cell_type": "code",
   "execution_count": 31,
   "id": "736d2c21",
   "metadata": {},
   "outputs": [],
   "source": [
    "# Evaluating the models\n",
    "lr_accuracy_2 = accuracy_score(y_test, lr_pred_2)\n",
    "dt_accuracy_2 = accuracy_score(y_test, dt_pred_2)\n",
    "rf_accuracy_2 = accuracy_score(y_test, rf_pred_2)\n",
    "xgb_accuracy_2 = accuracy_score(y_test, xgb_pred_2)\n",
    "gb_accuracy_2 = accuracy_score(y_test, gb_pred_2)\n",
    "ab_accuracy_2 = accuracy_score(y_test, ab_pred_2)\n",
    "svm_accuracy_2 = accuracy_score(y_test, svm_pred_2)\n",
    "knn_accuracy_2 = accuracy_score(y_test, knn_pred_2)\n",
    "gnb_accuracy_2 = accuracy_score(y_test, gnb_pred_2)"
   ]
  },
  {
   "cell_type": "code",
   "execution_count": 32,
   "id": "7de32757",
   "metadata": {
    "scrolled": false
   },
   "outputs": [
    {
     "name": "stdout",
     "output_type": "stream",
     "text": [
      "XGBoost Accuracy: 0.8095\n",
      "Decision Tree Accuracy: 0.775\n",
      "Random Forest Accuracy: 0.8105\n",
      "Logistic Regression Accuracy: 0.703\n",
      "Gradient Boosting Accuracy: 0.779\n",
      "AdaBoost Accuracy: 0.7595\n",
      "SVM Accuracy: 0.709\n",
      "KNN Accuracy: 0.7865\n",
      "GaussianNB Accuracy: 0.6645\n"
     ]
    }
   ],
   "source": [
    "print(\"XGBoost Accuracy:\", xgb_accuracy_2)\n",
    "print(\"Decision Tree Accuracy:\", dt_accuracy_2)\n",
    "print(\"Random Forest Accuracy:\", rf_accuracy_2)\n",
    "print(\"Logistic Regression Accuracy:\", lr_accuracy_2)\n",
    "print(\"Gradient Boosting Accuracy:\", gb_accuracy_2)\n",
    "print(\"AdaBoost Accuracy:\", ab_accuracy_2)\n",
    "print(\"SVM Accuracy:\", svm_accuracy_2)\n",
    "print(\"KNN Accuracy:\", knn_accuracy_2)\n",
    "print(\"GaussianNB Accuracy:\", gnb_accuracy_2)"
   ]
  },
  {
   "cell_type": "code",
   "execution_count": 33,
   "id": "638e553e",
   "metadata": {},
   "outputs": [
    {
     "data": {
      "image/png": "[encoded data removed]",
      "text/plain": [
       "<Figure size 1000x600 with 1 Axes>"
      ]
     },
     "metadata": {},
     "output_type": "display_data"
    }
   ],
   "source": [
    "import matplotlib.pyplot as plt\n",
    "\n",
    "# Define the algorithms and their corresponding accuracies\n",
    "algorithms = [\"XGBoost\", \"Decision Tree\", \"Random Forest\", \"Logistic Regression\", \n",
    "              \"Gradient Boosting\", \"AdaBoost\", \"SVM\", \"KNN\", \"GaussianNB\"]\n",
    "accuracies = [xgb_accuracy_2, dt_accuracy_2, rf_accuracy_2, lr_accuracy_2,\n",
    "              gb_accuracy_2, ab_accuracy_2, svm_accuracy_2, knn_accuracy_2, gnb_accuracy_2]\n",
    "\n",
    "# Create a bar plot\n",
    "plt.figure(figsize=(10, 6))\n",
    "plt.bar(algorithms, accuracies, color='skyblue')\n",
    "plt.xlabel('Algorithms')\n",
    "plt.ylabel('Accuracy')\n",
    "plt.title('Comparison of Algorithm Accuracies')\n",
    "plt.xticks(rotation=45, ha='right')\n",
    "plt.tight_layout()\n",
    "plt.show()\n"
   ]
  },
  {
   "cell_type": "code",
   "execution_count": 34,
   "id": "79546431",
   "metadata": {},
   "outputs": [
    {
     "name": "stdout",
     "output_type": "stream",
     "text": [
      "Accuracy: 0.798 (0.011)\n"
     ]
    }
   ],
   "source": [
    "# evaluate bagging algorithm for classification\n",
    "from numpy import mean\n",
    "from numpy import std\n",
    "\n",
    "from sklearn.model_selection import cross_val_score\n",
    "from sklearn.model_selection import RepeatedStratifiedKFold\n",
    "from sklearn.ensemble import BaggingClassifier\n",
    "\n",
    "# define the model\n",
    "model = BaggingClassifier()\n",
    "# evaluate the model\n",
    "cv = RepeatedStratifiedKFold(n_splits=10, n_repeats=3, random_state=1)\n",
    "n_scores = cross_val_score(model, X_train_scaled_2, y_train, scoring='accuracy', cv=cv, n_jobs=-1, error_score='raise')\n",
    "# report performance\n",
    "print('Accuracy: %.3f (%.3f)' % (mean(n_scores), std(n_scores)))"
   ]
  },
  {
   "cell_type": "code",
   "execution_count": 35,
   "id": "9680b82d",
   "metadata": {},
   "outputs": [
    {
     "name": "stdout",
     "output_type": "stream",
     "text": [
      "Stacking Classifier Accuracy: 0.82\n"
     ]
    }
   ],
   "source": [
    "## stacking algorithm\n",
    "from sklearn.ensemble import RandomForestClassifier\n",
    "from sklearn.svm import LinearSVC\n",
    "from sklearn.linear_model import LogisticRegression\n",
    "from sklearn.preprocessing import MinMaxScaler\n",
    "from sklearn.pipeline import make_pipeline\n",
    "from sklearn.ensemble import StackingClassifier\n",
    "from sklearn.model_selection import train_test_split\n",
    "\n",
    "\n",
    "estimators = [\n",
    "    ('rf', RandomForestClassifier(n_estimators=100, random_state=20)),\n",
    "    ('xgb', xgb.XGBClassifier()),\n",
    "    ('knn', make_pipeline(MinMaxScaler(), KNeighborsClassifier()))\n",
    "]\n",
    "\n",
    "stacking_model = StackingClassifier(\n",
    "    estimators=estimators, final_estimator=LogisticRegression()\n",
    ")\n",
    "\n",
    "stacking_model.fit(X_train_scaled_2, y_train_2)\n",
    "\n",
    "stacking_pred = stacking_model.predict(X_test_scaled_2)\n",
    "stacking_accuracy = accuracy_score(y_test_2, stacking_pred)\n",
    "print(\"Stacking Classifier Accuracy:\", stacking_accuracy)"
   ]
  },
  {
   "cell_type": "markdown",
   "id": "18b700c2",
   "metadata": {},
   "source": [
    "### 3. Using Mutual Information Classifier"
   ]
  },
  {
   "cell_type": "code",
   "execution_count": 36,
   "id": "f4ff32a9",
   "metadata": {},
   "outputs": [],
   "source": [
    "target_3 = dataset_3['Label']\n",
    "features_3 = dataset_3.drop(['Label'], axis=1)"
   ]
  },
  {
   "cell_type": "code",
   "execution_count": 37,
   "id": "21bd233c",
   "metadata": {},
   "outputs": [],
   "source": [
    "# Splitting the data into training and testing sets\n",
    "X_train_3, X_test_3, y_train_3, y_test_3 = train_test_split(features_3, target_3, test_size=0.2, random_state=42)"
   ]
  },
  {
   "cell_type": "code",
   "execution_count": 38,
   "id": "42404311",
   "metadata": {},
   "outputs": [],
   "source": [
    "from sklearn.preprocessing import MinMaxScaler\n",
    "\n",
    "scaler_3 = MinMaxScaler()\n",
    "X_train_scaled_3 = scaler.fit_transform(X_train_3)\n",
    "X_test_scaled_3 = scaler.transform(X_test_3)"
   ]
  },
  {
   "cell_type": "code",
   "execution_count": 39,
   "id": "15795c1b",
   "metadata": {},
   "outputs": [],
   "source": [
    "lr_model_3 = LogisticRegression()\n",
    "dt_model_3 = DecisionTreeClassifier()\n",
    "rf_model_3 = RandomForestClassifier()\n",
    "xgb_model_3 = xgb.XGBClassifier()\n",
    "gb_model_3 = GradientBoostingClassifier()\n",
    "ab_model_3 = AdaBoostClassifier()\n",
    "svm_model_3 = SVC()\n",
    "knn_model_3 = KNeighborsClassifier()\n",
    "gnb_model_3 = GaussianNB()"
   ]
  },
  {
   "cell_type": "code",
   "execution_count": 40,
   "id": "84603cc4",
   "metadata": {},
   "outputs": [
    {
     "data": {
      "text/html": [
       "<style>#sk-container-id-5 {color: black;}#sk-container-id-5 pre{padding: 0;}#sk-container-id-5 div.sk-toggleable {background-color: white;}#sk-container-id-5 label.sk-toggleable__label {cursor: pointer;display: block;width: 100%;margin-bottom: 0;padding: 0.3em;box-sizing: border-box;text-align: center;}#sk-container-id-5 label.sk-toggleable__label-arrow:before {content: \"▸\";float: left;margin-right: 0.25em;color: #696969;}#sk-container-id-5 label.sk-toggleable__label-arrow:hover:before {color: black;}#sk-container-id-5 div.sk-estimator:hover label.sk-toggleable__label-arrow:before {color: black;}#sk-container-id-5 div.sk-toggleable__content {max-height: 0;max-width: 0;overflow: hidden;text-align: left;background-color: #f0f8ff;}#sk-container-id-5 div.sk-toggleable__content pre {margin: 0.2em;color: black;border-radius: 0.25em;background-color: #f0f8ff;}#sk-container-id-5 input.sk-toggleable__control:checked~div.sk-toggleable__content {max-height: 200px;max-width: 100%;overflow: auto;}#sk-container-id-5 input.sk-toggleable__control:checked~label.sk-toggleable__label-arrow:before {content: \"▾\";}#sk-container-id-5 div.sk-estimator input.sk-toggleable__control:checked~label.sk-toggleable__label {background-color: #d4ebff;}#sk-container-id-5 div.sk-label input.sk-toggleable__control:checked~label.sk-toggleable__label {background-color: #d4ebff;}#sk-container-id-5 input.sk-hidden--visually {border: 0;clip: rect(1px 1px 1px 1px);clip: rect(1px, 1px, 1px, 1px);height: 1px;margin: -1px;overflow: hidden;padding: 0;position: absolute;width: 1px;}#sk-container-id-5 div.sk-estimator {font-family: monospace;background-color: #f0f8ff;border: 1px dotted black;border-radius: 0.25em;box-sizing: border-box;margin-bottom: 0.5em;}#sk-container-id-5 div.sk-estimator:hover {background-color: #d4ebff;}#sk-container-id-5 div.sk-parallel-item::after {content: \"\";width: 100%;border-bottom: 1px solid gray;flex-grow: 1;}#sk-container-id-5 div.sk-label:hover label.sk-toggleable__label {background-color: #d4ebff;}#sk-container-id-5 div.sk-serial::before {content: \"\";position: absolute;border-left: 1px solid gray;box-sizing: border-box;top: 0;bottom: 0;left: 50%;z-index: 0;}#sk-container-id-5 div.sk-serial {display: flex;flex-direction: column;align-items: center;background-color: white;padding-right: 0.2em;padding-left: 0.2em;position: relative;}#sk-container-id-5 div.sk-item {position: relative;z-index: 1;}#sk-container-id-5 div.sk-parallel {display: flex;align-items: stretch;justify-content: center;background-color: white;position: relative;}#sk-container-id-5 div.sk-item::before, #sk-container-id-5 div.sk-parallel-item::before {content: \"\";position: absolute;border-left: 1px solid gray;box-sizing: border-box;top: 0;bottom: 0;left: 50%;z-index: -1;}#sk-container-id-5 div.sk-parallel-item {display: flex;flex-direction: column;z-index: 1;position: relative;background-color: white;}#sk-container-id-5 div.sk-parallel-item:first-child::after {align-self: flex-end;width: 50%;}#sk-container-id-5 div.sk-parallel-item:last-child::after {align-self: flex-start;width: 50%;}#sk-container-id-5 div.sk-parallel-item:only-child::after {width: 0;}#sk-container-id-5 div.sk-dashed-wrapped {border: 1px dashed gray;margin: 0 0.4em 0.5em 0.4em;box-sizing: border-box;padding-bottom: 0.4em;background-color: white;}#sk-container-id-5 div.sk-label label {font-family: monospace;font-weight: bold;display: inline-block;line-height: 1.2em;}#sk-container-id-5 div.sk-label-container {text-align: center;}#sk-container-id-5 div.sk-container {/* jupyter's `normalize.less` sets `[hidden] { display: none; }` but bootstrap.min.css set `[hidden] { display: none !important; }` so we also need the `!important` here to be able to override the default hidden behavior on the sphinx rendered scikit-learn.org. See: https://github.com/scikit-learn/scikit-learn/issues/21755 */display: inline-block !important;position: relative;}#sk-container-id-5 div.sk-text-repr-fallback {display: none;}</style><div id=\"sk-container-id-5\" class=\"sk-top-container\"><div class=\"sk-text-repr-fallback\"><pre>GaussianNB()</pre><b>In a Jupyter environment, please rerun this cell to show the HTML representation or trust the notebook. <br />On GitHub, the HTML representation is unable to render, please try loading this page with nbviewer.org.</b></div><div class=\"sk-container\" hidden><div class=\"sk-item\"><div class=\"sk-estimator sk-toggleable\"><input class=\"sk-toggleable__control sk-hidden--visually\" id=\"sk-estimator-id-5\" type=\"checkbox\" checked><label for=\"sk-estimator-id-5\" class=\"sk-toggleable__label sk-toggleable__label-arrow\">GaussianNB</label><div class=\"sk-toggleable__content\"><pre>GaussianNB()</pre></div></div></div></div></div>"
      ],
      "text/plain": [
       "GaussianNB()"
      ]
     },
     "execution_count": 40,
     "metadata": {},
     "output_type": "execute_result"
    }
   ],
   "source": [
    "lr_model_3.fit(X_train_scaled_3, y_train)\n",
    "dt_model_3.fit(X_train_scaled_3, y_train)\n",
    "rf_model_3.fit(X_train_scaled_3, y_train)\n",
    "xgb_model_3.fit(X_train_scaled_3, y_train)\n",
    "gb_model_3.fit(X_train_scaled_3, y_train)\n",
    "ab_model_3.fit(X_train_scaled_3, y_train)\n",
    "svm_model_3.fit(X_train_scaled_3, y_train)\n",
    "knn_model_3.fit(X_train_scaled_3, y_train)\n",
    "gnb_model_3.fit(X_train_scaled_3, y_train)"
   ]
  },
  {
   "cell_type": "code",
   "execution_count": 41,
   "id": "13014e3d",
   "metadata": {},
   "outputs": [],
   "source": [
    "# Making predictions\n",
    "lr_pred_3 = lr_model_3.predict(X_test_scaled_3)\n",
    "dt_pred_3 = dt_model_3.predict(X_test_scaled_3)\n",
    "rf_pred_3 = rf_model_3.predict(X_test_scaled_3)\n",
    "xgb_pred_3 = xgb_model_3.predict(X_test_scaled_3)\n",
    "gb_pred_3 = gb_model_3.predict(X_test_scaled_3)\n",
    "ab_pred_3 = ab_model_3.predict(X_test_scaled_3)\n",
    "svm_pred_3 = svm_model_3.predict(X_test_scaled_3)\n",
    "knn_pred_3 = knn_model_3.predict(X_test_scaled_3)\n",
    "gnb_pred_3 = gnb_model_3.predict(X_test_scaled_3)"
   ]
  },
  {
   "cell_type": "code",
   "execution_count": 42,
   "id": "da6a415f",
   "metadata": {},
   "outputs": [],
   "source": [
    "# Evaluating the models\n",
    "lr_accuracy_3 = accuracy_score(y_test, lr_pred_3)\n",
    "dt_accuracy_3 = accuracy_score(y_test, dt_pred_3)\n",
    "rf_accuracy_3 = accuracy_score(y_test, rf_pred_3)\n",
    "xgb_accuracy_3 = accuracy_score(y_test, xgb_pred_3)\n",
    "gb_accuracy_3 = accuracy_score(y_test, gb_pred_3)\n",
    "ab_accuracy_3 = accuracy_score(y_test, ab_pred_3)\n",
    "svm_accuracy_3 = accuracy_score(y_test, svm_pred_3)\n",
    "knn_accuracy_3 = accuracy_score(y_test, knn_pred_3)\n",
    "gnb_accuracy_3 = accuracy_score(y_test, gnb_pred_3)"
   ]
  },
  {
   "cell_type": "code",
   "execution_count": 43,
   "id": "6d36281a",
   "metadata": {},
   "outputs": [
    {
     "name": "stdout",
     "output_type": "stream",
     "text": [
      "XGBoost Accuracy: 0.793\n",
      "Decision Tree Accuracy: 0.7775\n",
      "Random Forest Accuracy: 0.811\n",
      "Logistic Regression Accuracy: 0.693\n",
      "Gradient Boosting Accuracy: 0.7715\n",
      "AdaBoost Accuracy: 0.7265\n",
      "SVM Accuracy: 0.7235\n",
      "KNN Accuracy: 0.785\n",
      "GaussianNB Accuracy: 0.6525\n"
     ]
    }
   ],
   "source": [
    "print(\"XGBoost Accuracy:\", xgb_accuracy_3)\n",
    "print(\"Decision Tree Accuracy:\", dt_accuracy_3)\n",
    "print(\"Random Forest Accuracy:\", rf_accuracy_3)\n",
    "print(\"Logistic Regression Accuracy:\", lr_accuracy_3)\n",
    "print(\"Gradient Boosting Accuracy:\", gb_accuracy_3)\n",
    "print(\"AdaBoost Accuracy:\", ab_accuracy_3)\n",
    "print(\"SVM Accuracy:\", svm_accuracy_3)\n",
    "print(\"KNN Accuracy:\", knn_accuracy_3)\n",
    "print(\"GaussianNB Accuracy:\", gnb_accuracy_3)"
   ]
  },
  {
   "cell_type": "markdown",
   "id": "857342b4",
   "metadata": {},
   "source": []
  },
  {
   "cell_type": "code",
   "execution_count": null,
   "id": "1d914ff7",
   "metadata": {},
   "outputs": [],
   "source": []
  },
  {
   "cell_type": "code",
   "execution_count": null,
   "id": "a9c0a0e3",
   "metadata": {},
   "outputs": [],
   "source": []
  },
  {
   "cell_type": "code",
   "execution_count": null,
   "id": "d190a92c",
   "metadata": {},
   "outputs": [],
   "source": []
  }
 ],
 "metadata": {
  "kernelspec": {
   "display_name": "Python 3 (ipykernel)",
   "language": "python",
   "name": "python3"
  },
  "language_info": {
   "codemirror_mode": {
    "name": "ipython",
    "version": 3
   },
   "file_extension": ".py",
   "mimetype": "text/x-python",
   "name": "python",
   "nbconvert_exporter": "python",
   "pygments_lexer": "ipython3",
   "version": "3.10.11"
  }
 },
 "nbformat": 4,
 "nbformat_minor": 5
}
